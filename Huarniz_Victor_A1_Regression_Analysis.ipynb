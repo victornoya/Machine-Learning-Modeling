{
 "cells": [
  {
   "cell_type": "markdown",
   "metadata": {
    "deletable": false,
    "editable": false
   },
   "source": [
    "# Regression Model Development\n",
    "**Victor Huarniz**\n",
    "**Linkedin: https://www.linkedin.com/in/victor-h-noya/**\n",
    "\n",
    "**DAT-5303 | Machine Learning**\n",
    "**Professor: Chase Kusterer**\n",
    "**Hult International Business School**\n",
    "\n",
    "### Purpose of this Script\n",
    "\n",
    "This script is designed to run different models and get the most accurate model which will be determined by the highest R-squared and lowest Train-Test Gap which cannot be above 0.05 as our confidence level for our model will be 95%. This means that we can be assure that 95% of the times the model will represent accurately the relationship of the dependent variables to explain the independent variable (Revenue). Other assumptions include a random_state of 219 and a test_size of 0.25.<br>\n",
    "\n",
    "Our steps include:<br>\n",
    "~~~\n",
    "1) Reading and massaging dataset \n",
    "2) Creating and evaluating models \n",
    "    2.1) OLS Regression (standard linear regression) \n",
    "    2.2) Lasso Regression \n",
    "    2.3) Bayesian Automatic Relevance Determination (ARD)\n",
    "    2.4) K-Nearest Neighbors Regression (KNN) \n",
    "3) Summarize the models of choose of the optimal model considering metrics\n",
    "~~~"
   ]
  },
  {
   "cell_type": "markdown",
   "metadata": {
    "deletable": false,
    "editable": false
   },
   "source": [
    "## Reading and massaging dataset"
   ]
  },
  {
   "cell_type": "markdown",
   "metadata": {},
   "source": [
    "### Reading packages and data"
   ]
  },
  {
   "cell_type": "code",
   "execution_count": 1,
   "metadata": {
    "code_folding": []
   },
   "outputs": [],
   "source": [
    "## Importing packages\n",
    "# importing essential libraries\n",
    "import pandas as pd  # data science essentials\n",
    "import matplotlib.pyplot as plt  # essential graphical output\n",
    "import numpy as np  # essential math\n",
    "import seaborn as sns  # enhanced graphical output\n",
    "import statsmodels.formula.api as smf  # regression modeling\n",
    "\n",
    "# import packages for massaging\n",
    "import gender_guesser.detector as gender  # to guess gender of names\n",
    "\n",
    "# import packages for the models\n",
    "from sklearn.model_selection import train_test_split  # train/test split\n",
    "import sklearn.linear_model  # linear Models (scikit-learn) (OLS, Lasso, ARD)\n",
    "from sklearn.neighbors import KNeighborsRegressor  # KNN for Regression\n",
    "from sklearn.preprocessing import StandardScaler  # standard scaler\n",
    "\n",
    "## Reading datasets\n",
    "# setting pandas print options\n",
    "pd.set_option('display.max_rows', 500)\n",
    "pd.set_option('display.max_columns', 500)\n",
    "pd.set_option('display.width', 1000)\n",
    "\n",
    "# specifying file names\n",
    "dataset_file = './data/Apprentice_Chef_Dataset.xlsx'\n",
    "dictionary_file = './data/Apprentice_Chef_Data_Dictionary.xlsx'\n",
    "#performance_file = './model_results/linear_model_performance.xlsx'\n",
    "#prediction_file  = './model_results/linear_model_predictions.xlsx'\n",
    "\n",
    "# reading the files into Python\n",
    "chef = pd.read_excel(dataset_file)\n",
    "dictionary = pd.read_excel(dictionary_file)\n",
    "#performance = pd.read_excel(performance_file)\n",
    "#predictions = pd.read_excel(prediction_file)"
   ]
  },
  {
   "cell_type": "markdown",
   "metadata": {},
   "source": [
    "### Massaging data"
   ]
  },
  {
   "cell_type": "code",
   "execution_count": 2,
   "metadata": {
    "cell_style": "center",
    "code_folding": []
   },
   "outputs": [
    {
     "name": "stdout",
     "output_type": "stream",
     "text": [
      "REVENUE                        1.00\n",
      "AVG_PREP_VID_TIME              0.64\n",
      "EFF_CLICKS_BELOW_MEAN          0.62\n",
      "TOTAL_MEALS_ORDERED            0.60\n",
      "RATING_4                       0.59\n",
      "TOTAL_PHOTOS_VIEWED            0.47\n",
      "AVG_ORDER_SIZE                 0.44\n",
      "EFF_CROSS_SALE_PROMOTION       0.39\n",
      "EFF_CATEGORIES                 0.36\n",
      "CLASSES_1                      0.33\n",
      "HIGH_CUSTOMER_SERVICE          0.27\n",
      "CLASSES_2                      0.22\n",
      "AVG_TIME_PER_SITE_VISIT        0.14\n",
      "CONTACTS_W_CUSTOMER_SERVICE    0.10\n",
      "RATING_5                       0.04\n",
      "EFF_PC_PLATFORM                0.04\n",
      "MOBILE_NUMBER_1                0.03\n",
      "CLASSES_3                      0.03\n",
      "PRODUCT_CATEGORIES_VIEWED      0.03\n",
      "PC_LOGINS                      0.02\n",
      "PC_FAN                         0.02\n",
      "WEEKLY_PLAN                    0.01\n",
      "PACKAGE_LOCKER_0               0.01\n",
      "TASTES_1                       0.01\n",
      "WORK_EMAIL                     0.01\n",
      "CANCELLATIONS_BEFORE_NOON      0.01\n",
      "CROSS_SELL_1                   0.00\n",
      "RATING_3                       0.00\n",
      "CROSS_SELL_0                  -0.00\n",
      "REFRIGERATED_LOCKER_0          0.00\n",
      "REFRIGERATED_LOCKER_1         -0.00\n",
      "EARLY_DELIVERIES              -0.00\n",
      "TASTES_0                      -0.01\n",
      "PERSONAL_EMAIL                -0.01\n",
      "PACKAGE_LOCKER_1              -0.01\n",
      "LATE_DELIVERIES               -0.01\n",
      "MOBILE_LOGINS                 -0.02\n",
      "MOBILE_NUMBER_0               -0.03\n",
      "CANCELLATIONS_AFTER_NOON      -0.04\n",
      "UNIQUE_MEALS_PURCH            -0.06\n",
      "EFF_CLICKS_ABV_MEAN           -0.10\n",
      "RATING_1                      -0.20\n",
      "RATING_2                      -0.37\n",
      "CLASSES_0                     -0.45\n",
      "AVG_CLICKS_PER_VISIT          -0.55\n",
      "Name: REVENUE, dtype: float64\n"
     ]
    }
   ],
   "source": [
    "## creating a copy of the original data set: \"chef_new\"\n",
    "\n",
    "chef_new = chef.copy()\n",
    "\n",
    "########################################################################################################################\n",
    "########################################################################################################################\n",
    "########################################################################################################################\n",
    "\n",
    "## Renaming variables\n",
    "# LARGEST_ORDER_SIZE -> AVG_ORDER_SIZE\n",
    "\n",
    "chef_new.rename(columns={'LARGEST_ORDER_SIZE': 'AVG_ORDER_SIZE'}, inplace=True)\n",
    "\n",
    "# MOBILE_NUMBER -> HAVE_MOBILE_NUMBER\n",
    "\n",
    "chef_new.rename(columns={'MOBILE_NUMBER': 'HAVE_MOBILE_NUMBER'}, inplace=True)\n",
    "\n",
    "########################################################################################################################\n",
    "########################################################################################################################\n",
    "########################################################################################################################\n",
    "\n",
    "## Classifying personal and work emails by domain\n",
    "\n",
    "# placeholder list\n",
    "placeholder_lst = []\n",
    "\n",
    "# looping over each email address\n",
    "for index, col in chef_new.iterrows():\n",
    "\n",
    "    # splitting email domain at '@'\n",
    "    split_email = chef_new.loc[index, 'EMAIL'].split(sep=\"@\")\n",
    "\n",
    "    # appending placeholder_lst with the results\n",
    "    placeholder_lst.append(split_email)\n",
    "\n",
    "# converting placeholder_lst into a DataFrame\n",
    "email_df = pd.DataFrame(placeholder_lst)\n",
    "\n",
    "# renaming column to concatenate\n",
    "email_df.columns = ['0', 'email_domain']\n",
    "\n",
    "# concatenating personal_email_domain with friends DataFrame\n",
    "chef_new = pd.concat([chef_new, email_df['email_domain']], axis=1)\n",
    "\n",
    "# email domain types\n",
    "personal_email_domains = [\n",
    "    '@gmail.com', '@hotmail.com', '@live.com', '@me.com', '@yahoo.com',\n",
    "    '@msn.com', '@protonmail.com'\n",
    "]\n",
    "\n",
    "# placeholder list\n",
    "placeholder_lst = []\n",
    "\n",
    "# looping to group observations by domain type\n",
    "for domain in chef_new['email_domain']:\n",
    "    if \"@\" + domain in personal_email_domains:\n",
    "        placeholder_lst.append('personal')\n",
    "\n",
    "    else:\n",
    "        placeholder_lst.append('worker')\n",
    "\n",
    "# concatenating with original DataFrame\n",
    "chef_new['domain_group'] = pd.Series(placeholder_lst)\n",
    "\n",
    "########################################################################################################################\n",
    "########################################################################################################################\n",
    "########################################################################################################################\n",
    "\n",
    "## New columns to define new variables from other columns\n",
    "\n",
    "# \"EFF_CLICKS_ABV_MEAN\" Show if clicks above average give more orders: if above average -> orders/clicks\n",
    "\n",
    "# looping over each email address\n",
    "for index, value in chef_new.iterrows():\n",
    "\n",
    "    #conditional to get a dummy if clicks above average:\n",
    "\n",
    "    if chef_new.loc[\n",
    "            index,\n",
    "            'AVG_CLICKS_PER_VISIT'] > chef_new['AVG_CLICKS_PER_VISIT'].mean():\n",
    "        chef_new.loc[index, 'EFF_CLICKS_ABV_MEAN'] = chef_new.loc[\n",
    "            index,\n",
    "            'TOTAL_MEALS_ORDERED'] / chef_new.loc[index,\n",
    "                                                  'AVG_CLICKS_PER_VISIT']\n",
    "    else:\n",
    "        chef_new.loc[index, 'EFF_CLICKS_ABV_MEAN'] = 0\n",
    "\n",
    "# \"EFF_CLICKS_BELOW_MEAN\" Show if clicks above average give more orders: if below or equal average -> orders/clicks\n",
    "\n",
    "# looping over each email address\n",
    "for index, value in chef_new.iterrows():\n",
    "\n",
    "    #conditional to get a dummy if clicks above average:\n",
    "\n",
    "    if chef_new.loc[\n",
    "            index,\n",
    "            'AVG_CLICKS_PER_VISIT'] <= chef_new['AVG_CLICKS_PER_VISIT'].mean():\n",
    "        chef_new.loc[index, 'EFF_CLICKS_BELOW_MEAN'] = chef_new.loc[\n",
    "            index,\n",
    "            'TOTAL_MEALS_ORDERED'] / chef_new.loc[index,\n",
    "                                                  'AVG_CLICKS_PER_VISIT']\n",
    "    else:\n",
    "        chef_new.loc[index, 'EFF_CLICKS_BELOW_MEAN'] = 0\n",
    "\n",
    "# \"HIGH_CUSTOMER_SERVICE\" Efficiency of customer service (if above median, bad):\n",
    "\n",
    "# looping over CUSTOMER_SERVICE\n",
    "for index, value in chef_new.iterrows():\n",
    "\n",
    "    #conditional to get a dummy if clicks above average:\n",
    "\n",
    "    if chef_new.loc[index, 'CONTACTS_W_CUSTOMER_SERVICE'] >= chef_new[\n",
    "            'CONTACTS_W_CUSTOMER_SERVICE'].median():\n",
    "        chef_new.loc[index, 'HIGH_CUSTOMER_SERVICE'] = 1\n",
    "    else:\n",
    "        chef_new.loc[index, 'HIGH_CUSTOMER_SERVICE'] = 0\n",
    "\n",
    "# \"PC_FAN\" Efficiency of PC_LOGINS (if above median, fan):\n",
    "\n",
    "# looping over PC_LOGINS\n",
    "for index, value in chef_new.iterrows():\n",
    "\n",
    "    #conditional to get a dummy if clicks above average:\n",
    "\n",
    "    if chef_new.loc[index, 'PC_LOGINS'] >= chef_new['PC_LOGINS'].median():\n",
    "        chef_new.loc[index, 'PC_FAN'] = 1\n",
    "    else:\n",
    "        chef_new.loc[index, 'PC_FAN'] = 0\n",
    "\n",
    "########################################################################################################################\n",
    "########################################################################################################################\n",
    "########################################################################################################################\n",
    "\n",
    "## Creating new variables\n",
    "\n",
    "# \"EFF_PC_PLATFORM\" Efficiency of categories: HAVE_MOBILE_NUMBER * PC_LOGINS\n",
    "\n",
    "chef_new[\n",
    "    'EFF_PC_PLATFORM'] = chef_new['HAVE_MOBILE_NUMBER'] * chef_new['PC_LOGINS']\n",
    "\n",
    "# \"EFF_CATEGORIES\" Efficiency of categories: TOTAL_MEALS_ORDERED / PRODUCT_CATEGORIES_VIEWED\n",
    "\n",
    "chef_new['EFF_CATEGORIES'] = chef_new['TOTAL_MEALS_ORDERED'] / chef_new[\n",
    "    'PRODUCT_CATEGORIES_VIEWED']\n",
    "\n",
    "# \"EFF_CROSS_SALE_PROMOTION\" Efficiency of cross sell promotions: TOTAL_MEALS_ORDERED * CROSS_SELL_SUCCESS\n",
    "\n",
    "chef_new['EFF_CROSS_SALE_PROMOTION'] = chef_new[\n",
    "    'TOTAL_MEALS_ORDERED'] * chef_new['CROSS_SELL_SUCCESS']\n",
    "\n",
    "########################################################################################################################\n",
    "########################################################################################################################\n",
    "########################################################################################################################\n",
    "\n",
    "## Get dummies variables for categorical variables\n",
    "\n",
    "# one hot encoding categorical variables\n",
    "one_hot_cross_sell = pd.get_dummies(chef_new['CROSS_SELL_SUCCESS'])\n",
    "one_hot_mobile_number = pd.get_dummies(chef_new['HAVE_MOBILE_NUMBER'])\n",
    "one_hot_taste_info = pd.get_dummies(chef_new['TASTES_AND_PREFERENCES'])\n",
    "one_hot_package_locker = pd.get_dummies(chef_new['PACKAGE_LOCKER'])\n",
    "one_hot_refrigerated_locker = pd.get_dummies(chef_new['REFRIGERATED_LOCKER'])\n",
    "one_hot_rating = pd.get_dummies(chef_new['MEDIAN_MEAL_RATING'])\n",
    "one_hot_classes = pd.get_dummies(chef_new['MASTER_CLASSES_ATTENDED'])\n",
    "one_hot_domain = pd.get_dummies(chef_new['domain_group'])\n",
    "\n",
    "# labels\n",
    "\n",
    "one_hot_cross_sell.columns = ['CROSS_SELL_0', 'CROSS_SELL_1']\n",
    "one_hot_mobile_number.columns = ['MOBILE_NUMBER_0', 'MOBILE_NUMBER_1']\n",
    "one_hot_taste_info.columns = ['TASTES_0', 'TASTES_1']\n",
    "one_hot_package_locker.columns = ['PACKAGE_LOCKER_0', 'PACKAGE_LOCKER_1']\n",
    "one_hot_refrigerated_locker.columns = [\n",
    "    'REFRIGERATED_LOCKER_0', 'REFRIGERATED_LOCKER_1'\n",
    "]\n",
    "one_hot_rating.columns = [\n",
    "    'RATING_1', 'RATING_2', 'RATING_3', 'RATING_4', 'RATING_5'\n",
    "]\n",
    "one_hot_classes.columns = ['CLASSES_0', 'CLASSES_1', 'CLASSES_2', 'CLASSES_3']\n",
    "one_hot_domain.columns = ['PERSONAL_EMAIL', 'WORK_EMAIL']\n",
    "\n",
    "# dropping categorical variables after they've been encoded\n",
    "chef_new = chef_new.drop('CROSS_SELL_SUCCESS', axis=1)\n",
    "chef_new = chef_new.drop('HAVE_MOBILE_NUMBER', axis=1)\n",
    "chef_new = chef_new.drop('TASTES_AND_PREFERENCES', axis=1)\n",
    "chef_new = chef_new.drop('PACKAGE_LOCKER', axis=1)\n",
    "chef_new = chef_new.drop('REFRIGERATED_LOCKER', axis=1)\n",
    "chef_new = chef_new.drop('MEDIAN_MEAL_RATING', axis=1)\n",
    "chef_new = chef_new.drop('MASTER_CLASSES_ATTENDED', axis=1)\n",
    "chef_new = chef_new.drop('domain_group', axis=1)\n",
    "\n",
    "# joining codings together\n",
    "chef_new = chef_new.join([\n",
    "    one_hot_cross_sell, one_hot_mobile_number, one_hot_taste_info,\n",
    "    one_hot_package_locker, one_hot_refrigerated_locker, one_hot_rating,\n",
    "    one_hot_classes, one_hot_domain\n",
    "])\n",
    "\n",
    "# saving new columns\n",
    "new_columns = chef_new.columns\n",
    "\n",
    "# creating a (Pearson) correlation matrix\n",
    "chef_corr = chef_new.corr().round(2)\n",
    "\n",
    "# printing (Pearson) correlations with SalePrice\n",
    "print(chef_corr.loc['REVENUE'].sort_values(ascending=False))\n",
    "\n",
    "########################################################################################################################\n",
    "########################################################################################################################\n",
    "########################################################################################################################\n",
    "\n",
    "# New variables from dummies\n",
    "\n",
    "# \"GOOD_ORDERS\". Number of orders with 4 or 5 stars:\n",
    "\n",
    "for index, value in chef_new.iterrows():\n",
    "\n",
    "    #conditional to get a dummy if clicks above average:\n",
    "\n",
    "    if chef_new.loc[index, 'RATING_4']+chef_new.loc[index, 'RATING_5']   >= 1:\n",
    "        chef_new.loc[index, 'GOOD_ORDERS'] = 1\n",
    "    else:\n",
    "        chef_new.loc[index, 'GOOD_ORDERS'] = 0\n",
    "\n",
    "# \"GO_TO_CLASS\". Number of people that attend at least one class:\n",
    "\n",
    "for index, value in chef_new.iterrows():\n",
    "\n",
    "    #conditional to get a dummy if clicks above average:\n",
    "\n",
    "    if chef_new.loc[index, 'CLASSES_1'] + chef_new.loc[\n",
    "            index, 'CLASSES_2'] +chef_new.loc[index, 'CLASSES_3'] >= 1:\n",
    "        chef_new.loc[index, 'GO_TO_CLASS'] = 1\n",
    "    else:\n",
    "        chef_new.loc[index, 'GO_TO_CLASS'] = 0\n",
    "\n",
    "# droping names\n",
    "\n",
    "chef_new = chef_new.drop([\n",
    "    'NAME', 'EMAIL', 'FIRST_NAME', 'FAMILY_NAME', 'email_domain',\n",
    "    'CROSS_SELL_0', 'MOBILE_NUMBER_0', 'PACKAGE_LOCKER_0', 'WORK_EMAIL',\n",
    "    'REFRIGERATED_LOCKER_1','REFRIGERATED_LOCKER_0','EARLY_DELIVERIES','CROSS_SELL_1','RATING_3'\n",
    "    ,'EFF_PC_PLATFORM','MOBILE_NUMBER_1','PRODUCT_CATEGORIES_VIEWED','PC_LOGINS','PC_FAN',\n",
    "    'TASTES_1','CANCELLATIONS_BEFORE_NOON','WEEKLY_PLAN','PACKAGE_LOCKER_1','LATE_DELIVERIES','TASTES_0','PERSONAL_EMAIL',\n",
    "    'MOBILE_LOGINS','CANCELLATIONS_AFTER_NOON','CLASSES_3','CLASSES_2','CLASSES_1'\n",
    "],\n",
    "                         axis=1)"
   ]
  },
  {
   "cell_type": "code",
   "execution_count": 3,
   "metadata": {
    "cell_style": "center",
    "code_folding": [
     0
    ],
    "scrolled": false
   },
   "outputs": [
    {
     "data": {
      "image/png": "[encoded data removed]",
      "text/plain": [
       "<Figure size 720x360 with 1 Axes>"
      ]
     },
     "metadata": {
      "needs_background": "light"
     },
     "output_type": "display_data"
    },
    {
     "data": {
      "image/png": "[encoded data removed]",
      "text/plain": [
       "<Figure size 720x288 with 1 Axes>"
      ]
     },
     "metadata": {
      "needs_background": "light"
     },
     "output_type": "display_data"
    }
   ],
   "source": [
    "# developing a histogram using DISPLOT\n",
    "sns.displot(data=chef_new, x=\"REVENUE\", height=5, aspect=2)\n",
    "\n",
    "# displaying the histogram\n",
    "plt.show()\n",
    "\n",
    "# setting figure size\n",
    "fig, ax = plt.subplots(figsize=(10, 4))\n",
    "\n",
    "## REVENUE ##\n",
    "\n",
    "# developing a boxplot\n",
    "sns.boxplot(x='REVENUE', data=chef_new)\n",
    "\n",
    "# titles and labels\n",
    "plt.title(label='Revenue')\n",
    "plt.ylabel(ylabel='Revenue')\n",
    "plt.tight_layout\n",
    "plt.show()"
   ]
  },
  {
   "cell_type": "markdown",
   "metadata": {
    "deletable": false,
    "editable": false
   },
   "source": [
    "## Creating and evaluating models\n",
    "### Preparing training and testing data"
   ]
  },
  {
   "cell_type": "code",
   "execution_count": 4,
   "metadata": {
    "cell_style": "center",
    "code_folding": []
   },
   "outputs": [
    {
     "name": "stdout",
     "output_type": "stream",
     "text": [
      "\n",
      "Training Data\n",
      "-------------\n",
      "X-side: (1459, 20)\n",
      "y-side: (1459,)\n",
      "\n",
      "\n",
      "Testing Data\n",
      "------------\n",
      "X-side: (487, 20)\n",
      "y-side: (487,)\n",
      "\n"
     ]
    }
   ],
   "source": [
    "## Setting response variable (y = REVENUE)\n",
    "\n",
    "chef_target = chef_new.loc[:, 'REVENUE']\n",
    "\n",
    "chef_new['log_REVENUE'] = np.log10(chef_new['REVENUE'])\n",
    "\n",
    "chef_target_log = chef_new.loc[:, 'log_REVENUE']\n",
    "\n",
    "# Setting explanatory variables (x)\n",
    "chef_data = chef_new.drop(['REVENUE', 'log_REVENUE'], axis=1)\n",
    "\n",
    "x_variables = list(chef_data.columns)\n",
    "\n",
    "# Setting up train-test split\n",
    "x_train, x_test, y_train, y_test = train_test_split(\n",
    "    chef_data,  # x-variables\n",
    "    chef_target,  # y-variable\n",
    "    test_size=0.25,\n",
    "    random_state=219)\n",
    "\n",
    "print(f\"\"\"\n",
    "Training Data\n",
    "-------------\n",
    "X-side: {x_train.shape}\n",
    "y-side: {y_train.shape}\n",
    "\n",
    "\n",
    "Testing Data\n",
    "------------\n",
    "X-side: {x_test.shape}\n",
    "y-side: {y_test.shape}\n",
    "\"\"\")\n",
    "\n",
    "## Standarized data\n",
    "\n",
    "# INSTANTIATING a StandardScaler() object\n",
    "scaler = StandardScaler()\n",
    "\n",
    "# FITTING the scaler with chef_data\n",
    "scaler.fit(chef_data)\n",
    "\n",
    "# TRANSFORMING our data after fit\n",
    "x_scaled = scaler.transform(chef_data)\n",
    "\n",
    "# converting scaled data into a DataFrame\n",
    "x_scaled_df = pd.DataFrame(x_scaled)\n",
    "\n",
    "# adding labels to the scaled DataFrame\n",
    "x_scaled_df.columns = chef_data.columns\n",
    "\n",
    "# Setting up STANDARD train-test split\n",
    "\n",
    "x_train_STAND, x_test_STAND, y_train_STAND, y_test_STAND = train_test_split(\n",
    "    x_scaled_df, chef_target, test_size=0.25, random_state=219)"
   ]
  },
  {
   "cell_type": "markdown",
   "metadata": {
    "deletable": false,
    "editable": false
   },
   "source": [
    "### OLS Regression"
   ]
  },
  {
   "cell_type": "code",
   "execution_count": 5,
   "metadata": {
    "code_folding": [],
    "scrolled": false
   },
   "outputs": [
    {
     "name": "stdout",
     "output_type": "stream",
     "text": [
      "OLS Training Score : 0.6577\n",
      "OLS Testing Score  : 0.6999\n",
      "OLS Train-Test Gap : 0.0422\n"
     ]
    }
   ],
   "source": [
    "# INSTANTIATING a model object\n",
    "lr = sklearn.linear_model.LinearRegression()\n",
    "\n",
    "# FITTING to the training data\n",
    "lr_fit = lr.fit(x_train, y_train)\n",
    "\n",
    "# PREDICTING on new data\n",
    "lr_pred = lr_fit.predict(x_test)\n",
    "\n",
    "# SCORING the results\n",
    "print('OLS Training Score :',\n",
    "      lr.score(x_train, y_train).round(4))  # using R-square\n",
    "print('OLS Testing Score  :',\n",
    "      lr.score(x_test, y_test).round(4))  # using R-square\n",
    "\n",
    "lr_train_score = lr.score(x_train, y_train).round(4)\n",
    "lr_test_score = lr.score(x_test, y_test).round(4)\n",
    "\n",
    "# displaying and saving the gap between training and testing\n",
    "print('OLS Train-Test Gap :', abs(lr_train_score - lr_test_score).round(4))\n",
    "lr_test_gap = abs(lr_train_score - lr_test_score).round(4)\n",
    "\n",
    "# zipping each feature name to its coefficient\n",
    "lr_model_values = zip(chef_data[x_variables].columns,\n",
    "                      lr_fit.coef_.round(decimals=2))\n",
    "\n",
    "# setting up a placeholder list to store model features\n",
    "lr_model_lst = [('intercept', lr_fit.intercept_.round(decimals=2))]\n",
    "\n",
    "# dropping coefficients that are equal to zero\n",
    "\n",
    "for feature, coefficient in lr_model_lst:\n",
    "    if int(coefficient) == 0:\n",
    "        lr_model_lst.remove((feature, coefficient))\n",
    "\n",
    "# printing out each feature-coefficient pair one by one\n",
    "for val in lr_model_values:\n",
    "    lr_model_lst.append(val)"
   ]
  },
  {
   "cell_type": "markdown",
   "metadata": {
    "deletable": false,
    "editable": false
   },
   "source": [
    "### Lasso Regression"
   ]
  },
  {
   "cell_type": "code",
   "execution_count": 6,
   "metadata": {
    "code_folding": [
     0
    ]
   },
   "outputs": [
    {
     "name": "stdout",
     "output_type": "stream",
     "text": [
      "Lasso Model Training Score : 0.6577\n",
      "Lasso Model Testing Score  : 0.6999\n",
      "Lasso Model Train-Test Gap : 0.0422\n"
     ]
    }
   ],
   "source": [
    "# INSTANTIATING a model object\n",
    "lasso_model = sklearn.linear_model.Lasso(alpha=0.01, normalize=True)\n",
    "\n",
    "# FITTING to the training data\n",
    "lasso_model_fit = lasso_model.fit(x_train, y_train)\n",
    "\n",
    "# PREDICTING on new data\n",
    "lasso_model_pred = lasso_model_fit.predict(x_test)\n",
    "\n",
    "# SCORING the results\n",
    "print('Lasso Model Training Score :',\n",
    "      lasso_model.score(x_train, y_train).round(4))  # using R-square\n",
    "print('Lasso Model Testing Score  :',\n",
    "      lasso_model.score(x_test, y_test).round(4))  # using R-square\n",
    "\n",
    "lasso_model_train_score = lasso_model.score(x_train, y_train).round(4)\n",
    "lasso_model_test_score = lasso_model.score(x_test, y_test).round(4)\n",
    "\n",
    "# displaying and saving the gap between training and testing\n",
    "print('Lasso Model Train-Test Gap :',\n",
    "      abs(lasso_model_train_score - lasso_model_test_score).round(4))\n",
    "lasso_model_test_gap = abs(lasso_model_train_score -\n",
    "                           lasso_model_test_score).round(4)\n",
    "\n",
    "# zipping each feature name to its coefficient\n",
    "lasso_model_values = zip(chef_data[x_variables].columns,\n",
    "                         lasso_model_fit.coef_.round(decimals=2))\n",
    "\n",
    "# setting up a placeholder list to store model features\n",
    "lasso_model_lst = [('intercept', lasso_model_fit.intercept_.round(decimals=2))]\n",
    "\n",
    "# printing out each feature-coefficient pair one by one\n",
    "for val in lasso_model_values:\n",
    "    lasso_model_lst.append(val)\n",
    "\n",
    "# dropping coefficients that are equal to zero\n",
    "for feature, coefficient in lasso_model_lst:\n",
    "    if int(coefficient) == 0:\n",
    "        lasso_model_lst.remove((feature, coefficient))"
   ]
  },
  {
   "cell_type": "markdown",
   "metadata": {
    "deletable": false,
    "editable": false
   },
   "source": [
    "### Bayesian Automatic Relevance Determination (ARD)"
   ]
  },
  {
   "cell_type": "code",
   "execution_count": 7,
   "metadata": {
    "code_folding": [
     0
    ]
   },
   "outputs": [
    {
     "name": "stdout",
     "output_type": "stream",
     "text": [
      "ARD Training Score: 0.657\n",
      "ARD Testing Score : 0.7008\n",
      "ARD Train-Test Gap : 0.0438\n"
     ]
    }
   ],
   "source": [
    "# INSTANTIATING a model object\n",
    "ard_model = sklearn.linear_model.ARDRegression()\n",
    "\n",
    "# FITTING the training data\n",
    "ard_fit = ard_model.fit(x_train, y_train)\n",
    "\n",
    "# PREDICTING on new data\n",
    "ard_pred = ard_fit.predict(x_test)\n",
    "\n",
    "print('ARD Training Score:', ard_model.score(x_train, y_train).round(4))\n",
    "print('ARD Testing Score :', ard_model.score(x_test, y_test).round(4))\n",
    "\n",
    "# saving scoring data for future use\n",
    "ard_train_score = ard_model.score(x_train, y_train).round(4)\n",
    "ard_test_score = ard_model.score(x_test, y_test).round(4)\n",
    "\n",
    "# displaying and saving the gap between training and testing\n",
    "print('ARD Train-Test Gap :', abs(ard_train_score - ard_test_score).round(4))\n",
    "ard_test_gap = abs(ard_train_score - ard_test_score).round(4)\n",
    "\n",
    "# zipping each feature name to its coefficient\n",
    "ard_model_values = zip(chef_data.columns, ard_fit.coef_.round(decimals=2))\n",
    "\n",
    "# setting up a placeholder list to store model features\n",
    "ard_model_lst = [('intercept', ard_fit.intercept_.round(decimals=2))]\n",
    "\n",
    "# printing out each feature-coefficient pair one by one\n",
    "for val in ard_model_values:\n",
    "    ard_model_lst.append(val)\n",
    "\n",
    "# dropping coefficients that are equal to zero\n",
    "for feature, coefficient in ard_model_lst:\n",
    "    if int(coefficient) == 0:\n",
    "        ard_model_lst.remove((feature, coefficient))"
   ]
  },
  {
   "cell_type": "markdown",
   "metadata": {
    "deletable": false,
    "editable": false
   },
   "source": [
    "### K-Nearest Neighbors Regression (KNN) "
   ]
  },
  {
   "cell_type": "code",
   "execution_count": 8,
   "metadata": {
    "code_folding": [
     0
    ]
   },
   "outputs": [
    {
     "data": {
      "image/png": "[encoded data removed]",
      "text/plain": [
       "<Figure size 864x576 with 1 Axes>"
      ]
     },
     "metadata": {
      "needs_background": "light"
     },
     "output_type": "display_data"
    },
    {
     "name": "stdout",
     "output_type": "stream",
     "text": [
      "The optimal number of neighbors is 7\n",
      "KNN Training Score: 0.6863\n",
      "KNN Testing Score : 0.6428\n",
      "KNN Train-Test Gap: 0.0435\n"
     ]
    }
   ],
   "source": [
    "# creating lists for training set accuracy and test set accuracy\n",
    "training_accuracy = []\n",
    "test_accuracy = []\n",
    "gap = []\n",
    "\n",
    "# building a visualization of 1 to 15 neighbors\n",
    "neighbors_settings = range(1, 15)\n",
    "\n",
    "for n_neighbors in neighbors_settings:\n",
    "    # Building the model\n",
    "    clf = KNeighborsRegressor(n_neighbors=n_neighbors, p=1)\n",
    "    clf.fit(x_train, y_train)\n",
    "\n",
    "    # Recording the training set accuracy\n",
    "    training_accuracy.append(clf.score(x_train, y_train))\n",
    "\n",
    "    # Recording the generalization accuracy\n",
    "    test_accuracy.append(clf.score(x_test, y_test))\n",
    "\n",
    "    # Recording the gap\n",
    "    gap.append(clf.score(x_train, y_train) - clf.score(x_test, y_test))\n",
    "\n",
    "# plotting the visualization\n",
    "fig, ax = plt.subplots(figsize=(12, 8))\n",
    "plt.plot(neighbors_settings, training_accuracy, label=\"training accuracy\")\n",
    "plt.plot(neighbors_settings, test_accuracy, label=\"test accuracy\")\n",
    "plt.ylabel(\"Accuracy\")\n",
    "plt.xlabel(\"n_neighbors\")\n",
    "plt.legend()\n",
    "plt.show()\n",
    "\n",
    "opt_neighbors = test_accuracy.index(max(test_accuracy)) + 1\n",
    "while gap[opt_neighbors - 1] >= 0.05:\n",
    "    opt_neighbors = test_accuracy.index(max(test_accuracy[opt_neighbors:])) + 1\n",
    "\n",
    "print(f\"\"\"The optimal number of neighbors is {opt_neighbors}\"\"\")\n",
    "\n",
    "###############################################################\n",
    "# INSTANTIATING a model with the optimal number of neighbors\n",
    "knn_opt = KNeighborsRegressor(algorithm='auto', n_neighbors=opt_neighbors, p=1)\n",
    "\n",
    "# FITTING the model based on the training data\n",
    "knn_opt_fit = knn_opt.fit(x_train, y_train)\n",
    "\n",
    "# PREDITCING on new data\n",
    "knn_opt_pred = knn_opt_fit.predict(x_test)\n",
    "\n",
    "# SCORING the results\n",
    "print('KNN Training Score:', knn_opt.score(x_train, y_train).round(4))\n",
    "print('KNN Testing Score :', knn_opt.score(x_test, y_test).round(4))\n",
    "\n",
    "# saving scoring data for future use\n",
    "knn_opt_score_train = knn_opt.score(x_train, y_train).round(4)\n",
    "knn_opt_score_test = knn_opt.score(x_test, y_test).round(4)\n",
    "\n",
    "# displaying and saving the gap between training and testing\n",
    "print('KNN Train-Test Gap:',\n",
    "      abs(knn_opt_score_train - knn_opt_score_test).round(4))\n",
    "knn_opt_test_gap = abs(knn_opt_score_train - knn_opt_score_test).round(4)"
   ]
  },
  {
   "cell_type": "markdown",
   "metadata": {
    "deletable": false,
    "editable": false
   },
   "source": [
    "### Standarized K-Nearest Neighbors Regression (KNN) "
   ]
  },
  {
   "cell_type": "code",
   "execution_count": 9,
   "metadata": {
    "code_folding": [
     0
    ],
    "scrolled": false
   },
   "outputs": [
    {
     "data": {
      "image/png": "[encoded data removed]",
      "text/plain": [
       "<Figure size 864x576 with 1 Axes>"
      ]
     },
     "metadata": {
      "needs_background": "light"
     },
     "output_type": "display_data"
    },
    {
     "name": "stdout",
     "output_type": "stream",
     "text": [
      "The optimal number of neighbors is 5\n",
      "KNN Training Score STAND: 0.797\n",
      "KNN Testing Score STAND: 0.7574\n",
      "KNN Train-Test Gap STAND: 0.0396\n"
     ]
    }
   ],
   "source": [
    "# creating lists for training set accuracy and test set accuracy\n",
    "training_accuracy_STAND = []\n",
    "test_accuracy_STAND = []\n",
    "gap_STAND = []\n",
    "\n",
    "# building a visualization of 1 to 15 neighbors\n",
    "neighbors_settings_STAND = range(1, 15)\n",
    "\n",
    "for n_neighbors in neighbors_settings_STAND:\n",
    "    # Building the model\n",
    "    clf_STAND = KNeighborsRegressor(n_neighbors=n_neighbors, p=1)\n",
    "    clf_STAND.fit(x_train_STAND, y_train_STAND)\n",
    "\n",
    "    # Recording the training set accuracy\n",
    "    training_accuracy_STAND.append(\n",
    "        clf_STAND.score(x_train_STAND, y_train_STAND))\n",
    "\n",
    "    # Recording the generalization accuracy\n",
    "    test_accuracy_STAND.append(clf_STAND.score(x_test_STAND, y_test_STAND))\n",
    "\n",
    "    # Recording the gap\n",
    "    gap_STAND.append(\n",
    "        clf_STAND.score(x_train_STAND, y_train_STAND) -\n",
    "        clf_STAND.score(x_test_STAND, y_test_STAND))\n",
    "\n",
    "# plotting the visualization\n",
    "fig, ax = plt.subplots(figsize=(12, 8))\n",
    "plt.plot(neighbors_settings_STAND,\n",
    "         training_accuracy_STAND,\n",
    "         label=\"training accuracy STAND\")\n",
    "plt.plot(neighbors_settings_STAND,\n",
    "         test_accuracy_STAND,\n",
    "         label=\"test accuracy STAND\")\n",
    "plt.ylabel(\"Accuracy\")\n",
    "plt.xlabel(\"n_neighbors\")\n",
    "plt.legend()\n",
    "plt.show()\n",
    "\n",
    "opt_neighbors_STAND = test_accuracy_STAND.index(max(test_accuracy_STAND)) + 1\n",
    "while gap_STAND[opt_neighbors_STAND - 1] >= 0.05:\n",
    "    opt_neighbors_STAND = test_accuracy_STAND.index(\n",
    "        max(test_accuracy_STAND[opt_neighbors_STAND:])) + 1\n",
    "\n",
    "print(f\"\"\"The optimal number of neighbors is {opt_neighbors_STAND}\"\"\")\n",
    "\n",
    "###############################################################\n",
    "# INSTANTIATING a model with the optimal number of neighbors\n",
    "knn_opt_STAND = KNeighborsRegressor(algorithm='auto',\n",
    "                                    p=1,\n",
    "                                    n_neighbors=opt_neighbors_STAND)\n",
    "\n",
    "# FITTING the model based on the training data\n",
    "knn_opt_fit_STAND = knn_opt_STAND.fit(x_train_STAND, y_train_STAND)\n",
    "\n",
    "# PREDITCING on new data\n",
    "knn_opt_pred_STAND = knn_opt_fit_STAND.predict(x_test_STAND)\n",
    "\n",
    "# SCORING the results\n",
    "print('KNN Training Score STAND:',\n",
    "      knn_opt_STAND.score(x_train_STAND, y_train_STAND).round(4))\n",
    "print('KNN Testing Score STAND:',\n",
    "      knn_opt_STAND.score(x_test_STAND, y_test_STAND).round(4))\n",
    "\n",
    "# saving scoring data for future use\n",
    "knn_opt_score_train_STAND = knn_opt_STAND.score(x_train_STAND,\n",
    "                                                y_train_STAND).round(4)\n",
    "knn_opt_score_test_STAND = knn_opt_STAND.score(x_test_STAND,\n",
    "                                               y_test_STAND).round(4)\n",
    "\n",
    "# displaying and saving the gap between training and testing\n",
    "print('KNN Train-Test Gap STAND:',\n",
    "      abs(knn_opt_score_train_STAND - knn_opt_score_test_STAND).round(4))\n",
    "knn_opt_test_gap_STAND = abs(knn_opt_score_train_STAND -\n",
    "                             knn_opt_score_test_STAND).round(4)"
   ]
  },
  {
   "cell_type": "markdown",
   "metadata": {
    "deletable": false,
    "editable": false
   },
   "source": [
    "## Summarize the models of choose of the optimal model considering metrics\n",
    "### Comparing results"
   ]
  },
  {
   "cell_type": "code",
   "execution_count": 10,
   "metadata": {
    "code_folding": [
     0
    ],
    "scrolled": false
   },
   "outputs": [
    {
     "name": "stdout",
     "output_type": "stream",
     "text": [
      "\n",
      "Model      Train Score      Test Score      Train-Test Gap     Model Size      Model\n",
      "-----      -----------      ----------      --------------      ----------      -----------                         \n",
      "OLS        0.6577            0.6999            0.0422            21            [('intercept', 1201.76), ('TOTAL_MEALS_ORDERED', 4.67), ('UNIQUE_MEALS_PURCH', -67.01), ('CONTACTS_W_CUSTOMER_SERVICE', -27.31), ('AVG_TIME_PER_SITE_VISIT', -0.82), ('AVG_PREP_VID_TIME', 9.45), ('AVG_ORDER_SIZE', -113.9), ('AVG_CLICKS_PER_VISIT', -1.62), ('TOTAL_PHOTOS_VIEWED', 0.47), ('EFF_CLICKS_ABV_MEAN', 0.51), ('EFF_CLICKS_BELOW_MEAN', 7.43), ('HIGH_CUSTOMER_SERVICE', 242.64), ('EFF_CATEGORIES', 0.79), ('EFF_CROSS_SALE_PROMOTION', -0.5), ('RATING_1', -316.27), ('RATING_2', -217.86), ('RATING_4', 596.04), ('RATING_5', -352.12), ('CLASSES_0', -107.6), ('GOOD_ORDERS', 243.92), ('GO_TO_CLASS', 107.6)]\n",
      "------------------------------------------------------------------------------------------------------------\n",
      "Lasso      0.6577           0.6999            0.0422            17            [('intercept', 1307.68), ('TOTAL_MEALS_ORDERED', 4.71), ('UNIQUE_MEALS_PURCH', -66.91), ('CONTACTS_W_CUSTOMER_SERVICE', -26.52), ('AVG_PREP_VID_TIME', 9.42), ('AVG_ORDER_SIZE', -112.68), ('AVG_CLICKS_PER_VISIT', -1.94), ('EFF_CLICKS_ABV_MEAN', -0.0), ('EFF_CLICKS_BELOW_MEAN', 6.96), ('HIGH_CUSTOMER_SERVICE', 239.66), ('EFF_CROSS_SALE_PROMOTION', -0.48), ('RATING_1', -315.0), ('RATING_2', -216.83), ('RATING_4', 839.05), ('RATING_5', -101.54), ('CLASSES_0', -215.17), ('GO_TO_CLASS', 0.0)]\n",
      "------------------------------------------------------------------------------------------------------------\n",
      "ARD        0.657           0.7008            0.0438            15            [('intercept', 1108.97), ('TOTAL_MEALS_ORDERED', 4.99), ('UNIQUE_MEALS_PURCH', -67.09), ('CONTACTS_W_CUSTOMER_SERVICE', -17.5), ('AVG_PREP_VID_TIME', 9.38), ('AVG_ORDER_SIZE', -110.03), ('TOTAL_PHOTOS_VIEWED', 0.45), ('EFF_CLICKS_BELOW_MEAN', 3.04), ('HIGH_CUSTOMER_SERVICE', 205.81), ('EFF_CROSS_SALE_PROMOTION', -0.13), ('RATING_1', -319.5), ('RATING_2', -228.48), ('RATING_4', 862.62), ('CLASSES_0', -106.62), ('GO_TO_CLASS', 106.62)]\n",
      "------------------------------------------------------------------------------------------------------------\n",
      "KNN        0.6863           0.6428            0.0435            7            \"NA\"\n",
      "------------------------------------------------------------------------------------------------------------\n",
      "KNN_STAND  0.797           0.7574            0.0396            5            \"NA\"\n",
      "\n"
     ]
    }
   ],
   "source": [
    "# comparing results\n",
    "\n",
    "print(f\"\"\"\n",
    "Model      Train Score      Test Score      Train-Test Gap     Model Size      Model\n",
    "-----      -----------      ----------      --------------      ----------      -----------                         \n",
    "OLS        {lr_train_score}            {lr_test_score}            {lr_test_gap}            {len(lr_model_lst)}            {lr_model_lst}\n",
    "------------------------------------------------------------------------------------------------------------\n",
    "Lasso      {lasso_model_train_score}           {lasso_model_test_score}            {lasso_model_test_gap}            {len(lasso_model_lst)}            {lasso_model_lst}\n",
    "------------------------------------------------------------------------------------------------------------\n",
    "ARD        {ard_train_score}           {ard_test_score}            {ard_test_gap}            {len(ard_model_lst)}            {ard_model_lst}\n",
    "------------------------------------------------------------------------------------------------------------\n",
    "KNN        {knn_opt_score_train}           {knn_opt_score_test}            {knn_opt_test_gap}            {opt_neighbors}            \"NA\"\n",
    "------------------------------------------------------------------------------------------------------------\n",
    "KNN_STAND  {knn_opt_score_train_STAND}           {knn_opt_score_test_STAND}            {knn_opt_test_gap_STAND}            {opt_neighbors_STAND}            \"NA\"\n",
    "\"\"\")\n",
    "\n",
    "# creating a dictionary for model results\n",
    "model_performance = {\n",
    "    'Model Type': ['OLS', 'Lasso', 'ARD', 'KNN', 'KNN_STAND'],\n",
    "    'Training': [\n",
    "        lr_train_score, lasso_model_train_score, ard_train_score,\n",
    "        knn_opt_score_train, knn_opt_score_train_STAND\n",
    "    ],\n",
    "    'Testing': [\n",
    "        lr_test_score, lasso_model_test_score, ard_test_score,\n",
    "        knn_opt_score_test, knn_opt_score_test_STAND\n",
    "    ],\n",
    "    'Train-Test Gap': [\n",
    "        lr_test_gap, lasso_model_test_gap, ard_test_gap, knn_opt_test_gap,\n",
    "        knn_opt_test_gap_STAND\n",
    "    ],\n",
    "    'Model Size': [\n",
    "        len(lr_model_lst),\n",
    "        len(lasso_model_lst),\n",
    "        len(ard_model_lst), opt_neighbors, opt_neighbors_STAND\n",
    "    ],\n",
    "    'Model': [lr_model_lst, lasso_model_lst, ard_model_lst, \"NA\", \"NA\"]\n",
    "}\n",
    "\n",
    "# converting model_performance into a DataFrame\n",
    "model_performance = pd.DataFrame(model_performance)\n",
    "\n",
    "# creating dataframe with all predicted values\n",
    "predictions = pd.DataFrame(\n",
    "    data={\n",
    "        'Original Sale Prices': y_test,\n",
    "        'LR Predictions': lr_pred.round(decimals=2),\n",
    "        'Lasso Predictions': lasso_model_pred.round(decimals=2),\n",
    "        'ARD Predictions': ard_pred.round(decimals=2),\n",
    "        'KNN Predictions': knn_opt_pred.round(decimals=2),\n",
    "        'KNN Stand Predictions': knn_opt_pred_STAND.round(decimals=2),\n",
    "        'LR Deviation': lr_pred.round(decimals=2) - y_test,\n",
    "        'Lasso Deviation': lasso_model_pred.round(decimals=2) - y_test,\n",
    "        'ARD Deviation': ard_pred.round(decimals=2) - y_test,\n",
    "        'KNN Deviation': knn_opt_pred.round(decimals=2) - y_test,\n",
    "        'KNN Stand Deviation': knn_opt_pred_STAND.round(decimals=2) - y_test\n",
    "    })\n",
    "\n",
    "# sending model results to Excel\n",
    "model_performance.to_excel('linear_model_performance.xlsx', index=False)\n",
    "\n",
    "# sending predictions to Excel\n",
    "\n",
    "predictions.to_excel('predictions.xlsx', index=False)"
   ]
  },
  {
   "cell_type": "markdown",
   "metadata": {
    "deletable": false,
    "editable": false
   },
   "source": [
    "### Winning model and analysis\n",
    "Following our last summary table, we can conclude that Standarized KNN has the highest testing score with the following metrics:"
   ]
  },
  {
   "cell_type": "code",
   "execution_count": 11,
   "metadata": {
    "scrolled": false
   },
   "outputs": [
    {
     "name": "stdout",
     "output_type": "stream",
     "text": [
      "\n",
      "Model      Train Score      Test Score      Train-Test Gap     Model Size      Model\n",
      "-----      -----------      ----------      --------------      ----------      -----------    \n",
      "KNN_STAND  0.797           0.7574            0.0396               [('intercept', 1108.97), ('TOTAL_MEALS_ORDERED', 4.99), ('UNIQUE_MEALS_PURCH', -67.09), ('CONTACTS_W_CUSTOMER_SERVICE', -17.5), ('AVG_PREP_VID_TIME', 9.38), ('AVG_ORDER_SIZE', -110.03), ('TOTAL_PHOTOS_VIEWED', 0.45), ('EFF_CLICKS_BELOW_MEAN', 3.04), ('HIGH_CUSTOMER_SERVICE', 205.81), ('EFF_CROSS_SALE_PROMOTION', -0.13), ('RATING_1', -319.5), ('RATING_2', -228.48), ('RATING_4', 862.62), ('CLASSES_0', -106.62), ('GO_TO_CLASS', 106.62)]\n",
      "\n"
     ]
    }
   ],
   "source": [
    "print(f\"\"\"\n",
    "Model      Train Score      Test Score      Train-Test Gap     Model Size      Model\n",
    "-----      -----------      ----------      --------------      ----------      -----------    \n",
    "KNN_STAND  {knn_opt_score_train_STAND}           {knn_opt_score_test_STAND}            {knn_opt_test_gap_STAND}               {ard_model_lst}\n",
    "\"\"\")"
   ]
  },
  {
   "cell_type": "markdown",
   "metadata": {
    "deletable": false,
    "editable": false
   },
   "source": [
    "However, we can compare all models predictions with their original values and appreciate that they include most of the original values within the IQR. Although the median seems a bit over inflated, therefore we should expect a lower real revenue than the one predicted."
   ]
  },
  {
   "cell_type": "code",
   "execution_count": 12,
   "metadata": {
    "code_folding": [
     0
    ],
    "scrolled": false
   },
   "outputs": [
    {
     "data": {
      "image/png": "[encoded data removed]",
      "text/plain": [
       "<Figure size 720x144 with 1 Axes>"
      ]
     },
     "metadata": {
      "needs_background": "light"
     },
     "output_type": "display_data"
    },
    {
     "data": {
      "image/png": "[encoded data removed]",
      "text/plain": [
       "<Figure size 720x144 with 1 Axes>"
      ]
     },
     "metadata": {
      "needs_background": "light"
     },
     "output_type": "display_data"
    },
    {
     "data": {
      "image/png": "[encoded data removed]",
      "text/plain": [
       "<Figure size 720x144 with 1 Axes>"
      ]
     },
     "metadata": {
      "needs_background": "light"
     },
     "output_type": "display_data"
    },
    {
     "data": {
      "image/png": "[encoded data removed]",
      "text/plain": [
       "<Figure size 720x144 with 1 Axes>"
      ]
     },
     "metadata": {
      "needs_background": "light"
     },
     "output_type": "display_data"
    },
    {
     "data": {
      "image/png": "[encoded data removed]",
      "text/plain": [
       "<Figure size 720x144 with 1 Axes>"
      ]
     },
     "metadata": {
      "needs_background": "light"
     },
     "output_type": "display_data"
    },
    {
     "data": {
      "image/png": "[encoded data removed]",
      "text/plain": [
       "<Figure size 720x144 with 1 Axes>"
      ]
     },
     "metadata": {
      "needs_background": "light"
     },
     "output_type": "display_data"
    }
   ],
   "source": [
    "# defining a function for boxplots\n",
    "def model_boxplots(model, data):\n",
    "    \"\"\"\n",
    "\tThis function is designed to generate a boxplot for predictions to compare.\n",
    "    \n",
    "    PARAMETERS\n",
    "\t----------\n",
    "\tmodel    : Model Predictions\n",
    "\tdata     : DataFrame of the response and categorical variables\n",
    "\t\"\"\"\n",
    "\n",
    "    fig, ax = plt.subplots(figsize=(10, 2))\n",
    "\n",
    "    sns.boxplot(x=model, data=data)\n",
    "\n",
    "    plt.suptitle(model)\n",
    "    plt.show()\n",
    "\n",
    "\n",
    "# Creating boxplots for predictions results\n",
    "\n",
    "model_boxplots('Original Sale Prices', predictions)\n",
    "model_boxplots('LR Predictions', predictions)\n",
    "model_boxplots('Lasso Predictions', predictions)\n",
    "model_boxplots('ARD Predictions', predictions)\n",
    "model_boxplots('KNN Predictions', predictions)\n",
    "model_boxplots('KNN Stand Predictions', predictions)"
   ]
  }
 ],
 "metadata": {
  "kernelspec": {
   "display_name": "Python 3",
   "language": "python",
   "name": "python3"
  },
  "language_info": {
   "codemirror_mode": {
    "name": "ipython",
    "version": 3
   },
   "file_extension": ".py",
   "mimetype": "text/x-python",
   "name": "python",
   "nbconvert_exporter": "python",
   "pygments_lexer": "ipython3",
   "version": "3.8.5"
  },
  "toc": {
   "base_numbering": 1,
   "nav_menu": {},
   "number_sections": true,
   "sideBar": true,
   "skip_h1_title": false,
   "title_cell": "Table of Contents",
   "title_sidebar": "Contents",
   "toc_cell": false,
   "toc_position": {},
   "toc_section_display": true,
   "toc_window_display": false
  },
  "varInspector": {
   "cols": {
    "lenName": 16,
    "lenType": 16,
    "lenVar": 40
   },
   "kernels_config": {
    "python": {
     "delete_cmd_postfix": "",
     "delete_cmd_prefix": "del ",
     "library": "var_list.py",
     "varRefreshCmd": "print(var_dic_list())"
    },
    "r": {
     "delete_cmd_postfix": ") ",
     "delete_cmd_prefix": "rm(",
     "library": "var_list.r",
     "varRefreshCmd": "cat(var_dic_list()) "
    }
   },
   "types_to_exclude": [
    "module",
    "function",
    "builtin_function_or_method",
    "instance",
    "_Feature"
   ],
   "window_display": false
  }
 },
 "nbformat": 4,
 "nbformat_minor": 4
}
